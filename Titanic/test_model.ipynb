{
 "nbformat": 4,
 "nbformat_minor": 2,
 "metadata": {
  "language_info": {
   "name": "python",
   "codemirror_mode": {
    "name": "ipython",
    "version": 3
   },
   "version": "3.7.5-final"
  },
  "orig_nbformat": 2,
  "file_extension": ".py",
  "mimetype": "text/x-python",
  "name": "python",
  "npconvert_exporter": "python",
  "pygments_lexer": "ipython3",
  "version": 3,
  "kernelspec": {
   "name": "python37564bit2a0cbf1ccc154000a1cc088069468f72",
   "display_name": "Python 3.7.5 64-bit"
  }
 },
 "cells": [
  {
   "cell_type": "code",
   "execution_count": 1,
   "metadata": {},
   "outputs": [],
   "source": [
    "import numpy as np\n",
    "import pandas as pd"
   ]
  },
  {
   "cell_type": "code",
   "execution_count": 2,
   "metadata": {},
   "outputs": [],
   "source": [
    "titanic_df = pd.read_csv(\"train.csv\")"
   ]
  },
  {
   "cell_type": "code",
   "execution_count": 3,
   "metadata": {},
   "outputs": [
    {
     "output_type": "stream",
     "name": "stdout",
     "text": "0.7420382165605095\n"
    }
   ],
   "source": [
    "females = titanic_df.loc[titanic_df.Sex == 'female']['Survived']\n",
    "female_Survival_rate = sum(females)/len(females)\n",
    "\n",
    "print(female_Survival_rate)"
   ]
  },
  {
   "cell_type": "code",
   "execution_count": 5,
   "metadata": {},
   "outputs": [],
   "source": [
    "def getting_substrings(main_string, substrings):\n",
    "    for substring in substrings:\n",
    "        if main_string.find(substring) != -1:\n",
    "            return substring\n",
    "    print(main_string)\n",
    "    return np.nan"
   ]
  },
  {
   "cell_type": "code",
   "execution_count": 6,
   "metadata": {},
   "outputs": [],
   "source": [
    "def replace_titles(x):\n",
    "    title = x['Title']\n",
    "    if title in ['Don', 'Major', 'Capt', 'Jonkheer', 'Rev', 'Col', 'Master']:\n",
    "        return 'Mr'\n",
    "    elif title in ['Countess', 'Mme']:\n",
    "        return 'Mrs'\n",
    "    elif title in ['Mlle', 'Ms']:\n",
    "        return 'Miss'\n",
    "    elif title == 'Dr':\n",
    "        if x['Sex'] == 'Male':\n",
    "            return 'Mrs'\n",
    "        else:\n",
    "            return 'Mrs'\n",
    "    else:\n",
    "        return title"
   ]
  },
  {
   "cell_type": "code",
   "execution_count": 7,
   "metadata": {},
   "outputs": [],
   "source": [
    "title_list=['Mrs', 'Mr', 'Master', 'Miss', 'Major', 'Rev', 'Dr', 'Ms', 'Mlle','Col', 'Capt', 'Mme', 'Countess', 'Don', 'Jonkheer']\n",
    "\n",
    "titanic_df['Title'] = titanic_df['Name'].map(lambda x: getting_substrings(x, title_list))\n",
    "\n",
    "titanic_df['Title'] = titanic_df.apply(replace_titles, axis=1)\n",
    "\n",
    "titanic_df['Family count'] = titanic_df['SibSp'] + titanic_df['Parch']\n",
    "\n",
    "#cabin_list = ['A', 'B', 'C', 'D', 'E', 'F', 'T', 'G', 'Unknown']\n",
    "#titanic_df['Deck'] = titanic_df['Cabin'].map(lambda x: getting_substrings(x, cabin_list))"
   ]
  },
  {
   "cell_type": "code",
   "execution_count": 9,
   "metadata": {},
   "outputs": [],
   "source": [
    "titanic_df['Age class'] = titanic_df['Age']*titanic_df['Pclass']\n",
    "test_data['Age class'] = test_data['Age']*test_data['Pclass']"
   ]
  },
  {
   "cell_type": "code",
   "execution_count": 10,
   "metadata": {},
   "outputs": [
    {
     "output_type": "execute_result",
     "data": {
      "text/plain": "PassengerId       int64\nSurvived          int64\nPclass            int64\nName             object\nSex              object\nAge             float64\nSibSp             int64\nParch             int64\nTicket           object\nFare            float64\nCabin            object\nEmbarked         object\nTitle            object\nFamily count      int64\nAge class       float64\ndtype: object"
     },
     "metadata": {},
     "execution_count": 10
    }
   ],
   "source": [
    "titanic_df.dtypes"
   ]
  },
  {
   "cell_type": "code",
   "execution_count": 27,
   "metadata": {},
   "outputs": [],
   "source": [
    "titanic_df.Age = titanic_df.Age.fillna(22.0)"
   ]
  },
  {
   "cell_type": "code",
   "execution_count": 19,
   "metadata": {},
   "outputs": [
    {
     "output_type": "stream",
     "name": "stdout",
     "text": "LR: 0.789043 (0.039915)\nKNN: 0.716559 (0.042110)\nCART: 0.827747 (0.042714)\nLDA: 0.796497 (0.028022)\nSVM: 0.726574 (0.038207)\nNB: 0.791466 (0.040129)\nRFC: 0.834059 (0.048226)\n"
    }
   ],
   "source": [
    "from sklearn.model_selection import train_test_split\n",
    "from sklearn.tree import DecisionTreeClassifier\n",
    "from sklearn.linear_model import LogisticRegression\n",
    "from sklearn.neighbors import KNeighborsClassifier\n",
    "from sklearn.naive_bayes import GaussianNB\n",
    "from sklearn.ensemble import RandomForestClassifier\n",
    "from sklearn.discriminant_analysis import LinearDiscriminantAnalysis\n",
    "from sklearn.svm import SVC\n",
    "from sklearn.model_selection import StratifiedKFold\n",
    "from sklearn.model_selection import cross_val_score\n",
    "\n",
    "y = titanic_df['Survived']\n",
    "\n",
    "\n",
    "features = ['Sex', 'Pclass', 'Family count', 'Age', 'Fare']\n",
    "X = pd.get_dummies(titanic_df[features])\n",
    "\n",
    "X_train, X_test, y_train, y_test = train_test_split(X, y, test_size=0.1, random_state = 1)\n",
    "\n",
    "\n",
    "models = []\n",
    "\n",
    "models.append(('LR', LogisticRegression(solver='liblinear', multi_class='ovr')))\n",
    "models.append(('KNN', KNeighborsClassifier()))\n",
    "models.append(('CART', DecisionTreeClassifier(max_depth=8, max_features='auto')))\n",
    "models.append(('LDA', LinearDiscriminantAnalysis()))\n",
    "models.append(('SVM', SVC(gamma='auto')))\n",
    "models.append(('NB', GaussianNB()))\n",
    "models.append(('RFC', RandomForestClassifier(n_estimators=100, max_depth=8)))\n",
    "\n",
    "model_names = []\n",
    "model_performace = []\n",
    "\n",
    "for name, model in models:\n",
    "    Kfold = StratifiedKFold(n_splits=10, shuffle=True)\n",
    "    cv_results = cross_val_score(model, X_train, y_train, cv=Kfold, scoring='accuracy')\n",
    "    model_names.append(name)\n",
    "    model_performace.append(cv_results)\n",
    "    print('%s: %f (%f)' %(name, cv_results.mean(), cv_results.std()))\n",
    "\n",
    ""
   ]
  }
 ]
}